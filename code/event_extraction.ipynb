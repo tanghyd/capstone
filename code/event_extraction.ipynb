{
 "cells": [
  {
   "cell_type": "markdown",
   "metadata": {},
   "source": [
    "# Setup"
   ]
  },
  {
   "cell_type": "code",
   "execution_count": 1,
   "metadata": {},
   "outputs": [],
   "source": [
    "%load_ext autoreload\n",
    "%autoreload 2"
   ]
  },
  {
   "cell_type": "code",
   "execution_count": 14,
   "metadata": {},
   "outputs": [],
   "source": [
    "import re\n",
    "import pandas as pd\n",
    "import glob\n",
    "from pathlib import Path\n",
    "import json\n",
    "from shutil import copyfile\n",
    "import itertools\n",
    "from collections import Counter\n",
    "\n",
    "# Visualisation\n",
    "import seaborn as sns\n",
    "import matplotlib.pyplot as plt\n",
    "%matplotlib inline"
   ]
  },
  {
   "cell_type": "code",
   "execution_count": 71,
   "metadata": {},
   "outputs": [],
   "source": [
    "# Spacy Imports\n",
    "import spacy\n",
    "\n",
    "from spacy import displacy\n",
    "from spacy.pipeline import EntityRuler\n",
    "from spacy.matcher import PhraseMatcher\n",
    "from spacy.tokens import Doc, Span, Token\n",
    "from spacy.attrs import intify_attrs\n",
    "\n",
    "def display_ent(doc):\n",
    "    displacy.render(doc, style=\"ent\", jupyter=True)\n",
    "\n",
    "spacy_model = \"en_core_web_lg\"\n",
    "\n",
    "nlp = spacy.load(spacy_model)"
   ]
  },
  {
   "cell_type": "code",
   "execution_count": 44,
   "metadata": {},
   "outputs": [],
   "source": [
    "# User Source Code\n",
    "\n",
    "import utils"
   ]
  },
  {
   "cell_type": "code",
   "execution_count": 59,
   "metadata": {},
   "outputs": [],
   "source": [
    "# Project Base\n",
    "base_path = Path('..')\n",
    "\n",
    "# Data Paths\n",
    "data_path = base_path / 'data'\n",
    "all_reports_path = data_path / 'wamex_xml'\n",
    "subset_reports_path = data_path / 'subset'\n",
    "\n",
    "# Event Path\n",
    "events_path = base_path / 'events'\n",
    "\n",
    "# Dictionary Paths\n",
    "dictionary_path = base_path / 'dictionary'\n",
    "triggers_path = dictionary_path / 'triggers'\n",
    "patterns_path = dictionary_path / 'patterns'"
   ]
  },
  {
   "cell_type": "markdown",
   "metadata": {},
   "source": [
    "# NLP"
   ]
  },
  {
   "cell_type": "markdown",
   "metadata": {},
   "source": [
    "## Load Patterns"
   ]
  },
  {
   "cell_type": "code",
   "execution_count": 72,
   "metadata": {},
   "outputs": [
    {
     "name": "stdout",
     "output_type": "stream",
     "text": [
      "loaded 31120 patterns\n"
     ]
    }
   ],
   "source": [
    "patterns = []\n",
    "for filename in patterns_path.iterdir():\n",
    "    with open(filename, encoding=\"utf8\") as f:\n",
    "        patterns += json.load(f)\n",
    "        \n",
    "print(f'loaded {len(patterns)} patterns')"
   ]
  },
  {
   "cell_type": "code",
   "execution_count": 22,
   "metadata": {},
   "outputs": [
    {
     "data": {
      "text/plain": [
       "[{'label': 'ROCK',\n",
       "  'pattern': [{'LOWER': 'ï»¿acapulcoite'}, {'LOWER': 'meteorite'}]},\n",
       " {'label': 'ROCK', 'pattern': [{'LOWER': 'aceite'}]},\n",
       " {'label': 'ROCK',\n",
       "  'pattern': [{'LOWER': 'acid'}, {'LOWER': 'volcanic'}, {'LOWER': 'rock'}]},\n",
       " {'label': 'ROCK', 'pattern': [{'LOWER': 'adakite'}]},\n",
       " {'label': 'ROCK', 'pattern': [{'LOWER': 'adamellite'}]}]"
      ]
     },
     "execution_count": 22,
     "metadata": {},
     "output_type": "execute_result"
    }
   ],
   "source": [
    "patterns[:5]"
   ]
  },
  {
   "cell_type": "markdown",
   "metadata": {},
   "source": [
    "## Add patterns to nlp"
   ]
  },
  {
   "cell_type": "code",
   "execution_count": 73,
   "metadata": {},
   "outputs": [],
   "source": [
    "ruler = EntityRuler(nlp, overwrite_ents=True)\n",
    "ruler.add_patterns(patterns)\n",
    "\n",
    "nlp.add_pipe(ruler)"
   ]
  },
  {
   "cell_type": "markdown",
   "metadata": {},
   "source": [
    "## Load Trigger Words"
   ]
  },
  {
   "cell_type": "code",
   "execution_count": 74,
   "metadata": {},
   "outputs": [
    {
     "name": "stdout",
     "output_type": "stream",
     "text": [
      "loaded 25 trigger words\n",
      "\n",
      "['potential', 'drill', 'drilling', 'mineralisation', 'contain', 'promise', 'find', 'possible', 'enrich', 'enrichment', 'subeconomic', 'encouraging', 'extensive', 'patchy', 'minor', 'further drilling', 'low grade', 'medium grade', 'follow up', 'weak intercepts', 'minor intercepts', 'open at depth', 'along strike', 'exploration licence', 'prospective']\n"
     ]
    }
   ],
   "source": [
    "trigger_words = []\n",
    "for filename in triggers_path.iterdir():\n",
    "    with open(filename, 'r') as f:\n",
    "        trigger_words += [w.strip() for w in f.readlines()]\n",
    "    \n",
    "print(f'loaded {len(trigger_words)} trigger words\\n')\n",
    "print(trigger_words)"
   ]
  },
  {
   "cell_type": "code",
   "execution_count": 75,
   "metadata": {},
   "outputs": [],
   "source": [
    "geology_ents = ['ORE_DEPOSIT', 'ROCK', 'MINERAL', 'STRAT', 'LOCATION', 'TIMESCALE']"
   ]
  },
  {
   "cell_type": "markdown",
   "metadata": {},
   "source": [
    "# Event Extraction"
   ]
  },
  {
   "cell_type": "code",
   "execution_count": 76,
   "metadata": {},
   "outputs": [
    {
     "name": "stdout",
     "output_type": "stream",
     "text": [
      "extracting events on 100 files\n",
      "found 1580 events from a total of 7956 sentences\n"
     ]
    },
    {
     "data": {
      "text/html": [
       "<div>\n",
       "<style scoped>\n",
       "    .dataframe tbody tr th:only-of-type {\n",
       "        vertical-align: middle;\n",
       "    }\n",
       "\n",
       "    .dataframe tbody tr th {\n",
       "        vertical-align: top;\n",
       "    }\n",
       "\n",
       "    .dataframe thead th {\n",
       "        text-align: right;\n",
       "    }\n",
       "</style>\n",
       "<table border=\"1\" class=\"dataframe\">\n",
       "  <thead>\n",
       "    <tr style=\"text-align: right;\">\n",
       "      <th></th>\n",
       "      <th>event_id</th>\n",
       "      <th>filename</th>\n",
       "      <th>sentence_idx</th>\n",
       "      <th>sentence_text</th>\n",
       "      <th>n_trigger_words</th>\n",
       "      <th>trigger_words</th>\n",
       "      <th>event_text</th>\n",
       "    </tr>\n",
       "  </thead>\n",
       "  <tbody>\n",
       "    <tr>\n",
       "      <th>0</th>\n",
       "      <td>a080918_e9_1443_annual_09_13904956_0</td>\n",
       "      <td>a080918_e9_1443_annual_09_13904956.json</td>\n",
       "      <td>0</td>\n",
       "      <td>following the completion of the hole and loggi...</td>\n",
       "      <td>1</td>\n",
       "      <td>[potential]</td>\n",
       "      <td>following the completion of the hole and loggi...</td>\n",
       "    </tr>\n",
       "    <tr>\n",
       "      <th>1</th>\n",
       "      <td>a080918_e9_1443_annual_09_13904956_15</td>\n",
       "      <td>a080918_e9_1443_annual_09_13904956.json</td>\n",
       "      <td>15</td>\n",
       "      <td>photos of core c: yaringa e9_1443_annual_09.do...</td>\n",
       "      <td>1</td>\n",
       "      <td>[mineralisation]</td>\n",
       "      <td>mineral drillholes data 2. lithology summary a...</td>\n",
       "    </tr>\n",
       "    <tr>\n",
       "      <th>2</th>\n",
       "      <td>a080918_e9_1443_annual_09_13904956_16</td>\n",
       "      <td>a080918_e9_1443_annual_09_13904956.json</td>\n",
       "      <td>16</td>\n",
       "      <td>several suitable target areas were identified ...</td>\n",
       "      <td>1</td>\n",
       "      <td>[exploration licence]</td>\n",
       "      <td>lithology summary appendices 1. photos of core...</td>\n",
       "    </tr>\n",
       "    <tr>\n",
       "      <th>3</th>\n",
       "      <td>a080918_e9_1443_annual_09_13904956_18</td>\n",
       "      <td>a080918_e9_1443_annual_09_13904956.json</td>\n",
       "      <td>18</td>\n",
       "      <td>introduction the company has identified the on...</td>\n",
       "      <td>2</td>\n",
       "      <td>[prospective, mineralisation]</td>\n",
       "      <td>several suitable target areas were identified ...</td>\n",
       "    </tr>\n",
       "    <tr>\n",
       "      <th>4</th>\n",
       "      <td>a080918_e9_1443_annual_09_13904956_19</td>\n",
       "      <td>a080918_e9_1443_annual_09_13904956.json</td>\n",
       "      <td>19</td>\n",
       "      <td>the gascoyne platform is a diamond shaped area...</td>\n",
       "      <td>1</td>\n",
       "      <td>[contain]</td>\n",
       "      <td>this report details the work completed on one ...</td>\n",
       "    </tr>\n",
       "  </tbody>\n",
       "</table>\n",
       "</div>"
      ],
      "text/plain": [
       "                                event_id  \\\n",
       "0   a080918_e9_1443_annual_09_13904956_0   \n",
       "1  a080918_e9_1443_annual_09_13904956_15   \n",
       "2  a080918_e9_1443_annual_09_13904956_16   \n",
       "3  a080918_e9_1443_annual_09_13904956_18   \n",
       "4  a080918_e9_1443_annual_09_13904956_19   \n",
       "\n",
       "                                  filename  sentence_idx  \\\n",
       "0  a080918_e9_1443_annual_09_13904956.json             0   \n",
       "1  a080918_e9_1443_annual_09_13904956.json            15   \n",
       "2  a080918_e9_1443_annual_09_13904956.json            16   \n",
       "3  a080918_e9_1443_annual_09_13904956.json            18   \n",
       "4  a080918_e9_1443_annual_09_13904956.json            19   \n",
       "\n",
       "                                       sentence_text  n_trigger_words  \\\n",
       "0  following the completion of the hole and loggi...                1   \n",
       "1  photos of core c: yaringa e9_1443_annual_09.do...                1   \n",
       "2  several suitable target areas were identified ...                1   \n",
       "3  introduction the company has identified the on...                2   \n",
       "4  the gascoyne platform is a diamond shaped area...                1   \n",
       "\n",
       "                   trigger_words  \\\n",
       "0                    [potential]   \n",
       "1               [mineralisation]   \n",
       "2          [exploration licence]   \n",
       "3  [prospective, mineralisation]   \n",
       "4                      [contain]   \n",
       "\n",
       "                                          event_text  \n",
       "0  following the completion of the hole and loggi...  \n",
       "1  mineral drillholes data 2. lithology summary a...  \n",
       "2  lithology summary appendices 1. photos of core...  \n",
       "3  several suitable target areas were identified ...  \n",
       "4  this report details the work completed on one ...  "
      ]
     },
     "execution_count": 76,
     "metadata": {},
     "output_type": "execute_result"
    }
   ],
   "source": [
    "from utils import create_event_df\n",
    "\n",
    "eventdf = create_event_df(\n",
    "    nlp=nlp, \n",
    "    directory=subset_reports_path, \n",
    "    trigger_words=trigger_words, \n",
    "    n_sentences_extact=2\n",
    ")\n",
    "\n",
    "eventdf.head()"
   ]
  },
  {
   "cell_type": "markdown",
   "metadata": {},
   "source": [
    "## Save Events to csv file"
   ]
  },
  {
   "cell_type": "code",
   "execution_count": 60,
   "metadata": {},
   "outputs": [],
   "source": [
    "event_path = events_path / 'group_0_events.csv'\n",
    "eventdf.to_csv(event_path, index=False)"
   ]
  },
  {
   "cell_type": "markdown",
   "metadata": {},
   "source": [
    "# Visualisations"
   ]
  },
  {
   "cell_type": "markdown",
   "metadata": {},
   "source": [
    "## Frequency of number of trigger words found in each event"
   ]
  },
  {
   "cell_type": "code",
   "execution_count": 54,
   "metadata": {},
   "outputs": [
    {
     "data": {
      "image/png": "[encoded data removed]",
      "text/plain": [
       "<Figure size 432x288 with 1 Axes>"
      ]
     },
     "metadata": {
      "needs_background": "light"
     },
     "output_type": "display_data"
    }
   ],
   "source": [
    "sns.countplot(eventdf.n_trigger_words);"
   ]
  },
  {
   "cell_type": "markdown",
   "metadata": {},
   "source": [
    "## Count of each trigger word found"
   ]
  },
  {
   "cell_type": "code",
   "execution_count": 55,
   "metadata": {},
   "outputs": [
    {
     "data": {
      "text/html": [
       "<div>\n",
       "<style scoped>\n",
       "    .dataframe tbody tr th:only-of-type {\n",
       "        vertical-align: middle;\n",
       "    }\n",
       "\n",
       "    .dataframe tbody tr th {\n",
       "        vertical-align: top;\n",
       "    }\n",
       "\n",
       "    .dataframe thead th {\n",
       "        text-align: right;\n",
       "    }\n",
       "</style>\n",
       "<table border=\"1\" class=\"dataframe\">\n",
       "  <thead>\n",
       "    <tr style=\"text-align: right;\">\n",
       "      <th></th>\n",
       "      <th>trigger_word</th>\n",
       "      <th>count</th>\n",
       "    </tr>\n",
       "  </thead>\n",
       "  <tbody>\n",
       "    <tr>\n",
       "      <th>4</th>\n",
       "      <td>drill</td>\n",
       "      <td>466</td>\n",
       "    </tr>\n",
       "    <tr>\n",
       "      <th>1</th>\n",
       "      <td>mineralisation</td>\n",
       "      <td>421</td>\n",
       "    </tr>\n",
       "    <tr>\n",
       "      <th>0</th>\n",
       "      <td>potential</td>\n",
       "      <td>192</td>\n",
       "    </tr>\n",
       "    <tr>\n",
       "      <th>2</th>\n",
       "      <td>contain</td>\n",
       "      <td>169</td>\n",
       "    </tr>\n",
       "    <tr>\n",
       "      <th>5</th>\n",
       "      <td>minor</td>\n",
       "      <td>132</td>\n",
       "    </tr>\n",
       "    <tr>\n",
       "      <th>9</th>\n",
       "      <td>find</td>\n",
       "      <td>105</td>\n",
       "    </tr>\n",
       "    <tr>\n",
       "      <th>3</th>\n",
       "      <td>possible</td>\n",
       "      <td>73</td>\n",
       "    </tr>\n",
       "    <tr>\n",
       "      <th>8</th>\n",
       "      <td>follow up</td>\n",
       "      <td>67</td>\n",
       "    </tr>\n",
       "    <tr>\n",
       "      <th>6</th>\n",
       "      <td>extensive</td>\n",
       "      <td>60</td>\n",
       "    </tr>\n",
       "    <tr>\n",
       "      <th>18</th>\n",
       "      <td>along strike</td>\n",
       "      <td>36</td>\n",
       "    </tr>\n",
       "    <tr>\n",
       "      <th>10</th>\n",
       "      <td>low grade</td>\n",
       "      <td>30</td>\n",
       "    </tr>\n",
       "    <tr>\n",
       "      <th>14</th>\n",
       "      <td>further drilling</td>\n",
       "      <td>22</td>\n",
       "    </tr>\n",
       "    <tr>\n",
       "      <th>15</th>\n",
       "      <td>enrichment</td>\n",
       "      <td>22</td>\n",
       "    </tr>\n",
       "    <tr>\n",
       "      <th>16</th>\n",
       "      <td>patchy</td>\n",
       "      <td>10</td>\n",
       "    </tr>\n",
       "    <tr>\n",
       "      <th>7</th>\n",
       "      <td>enrich</td>\n",
       "      <td>7</td>\n",
       "    </tr>\n",
       "    <tr>\n",
       "      <th>19</th>\n",
       "      <td>open at depth</td>\n",
       "      <td>7</td>\n",
       "    </tr>\n",
       "    <tr>\n",
       "      <th>13</th>\n",
       "      <td>medium grade</td>\n",
       "      <td>5</td>\n",
       "    </tr>\n",
       "    <tr>\n",
       "      <th>11</th>\n",
       "      <td>promise</td>\n",
       "      <td>2</td>\n",
       "    </tr>\n",
       "    <tr>\n",
       "      <th>12</th>\n",
       "      <td>subeconomic</td>\n",
       "      <td>1</td>\n",
       "    </tr>\n",
       "    <tr>\n",
       "      <th>17</th>\n",
       "      <td>encourage</td>\n",
       "      <td>1</td>\n",
       "    </tr>\n",
       "  </tbody>\n",
       "</table>\n",
       "</div>"
      ],
      "text/plain": [
       "        trigger_word  count\n",
       "4              drill    466\n",
       "1     mineralisation    421\n",
       "0          potential    192\n",
       "2            contain    169\n",
       "5              minor    132\n",
       "9               find    105\n",
       "3           possible     73\n",
       "8          follow up     67\n",
       "6          extensive     60\n",
       "18      along strike     36\n",
       "10         low grade     30\n",
       "14  further drilling     22\n",
       "15        enrichment     22\n",
       "16            patchy     10\n",
       "7             enrich      7\n",
       "19     open at depth      7\n",
       "13      medium grade      5\n",
       "11           promise      2\n",
       "12       subeconomic      1\n",
       "17         encourage      1"
      ]
     },
     "execution_count": 55,
     "metadata": {},
     "output_type": "execute_result"
    }
   ],
   "source": [
    "counts = Counter(list(itertools.chain(*eventdf.trigger_words.tolist())))\n",
    "countsdf = (pd.DataFrame.from_dict(counts, orient='index')\n",
    "            .reset_index()\n",
    "            .rename(columns={'index':'trigger_word', 0:'count'})\n",
    "            .sort_values('count', ascending=False)\n",
    "           )\n",
    "countsdf"
   ]
  },
  {
   "cell_type": "code",
   "execution_count": 70,
   "metadata": {},
   "outputs": [
    {
     "data": {
      "text/html": [
       "<span class=\"tex2jax_ignore\"><div class=\"entities\" style=\"line-height: 2.5; direction: ltr\">it is located \n",
       "<mark class=\"entity\" style=\"background: #e4e7d2; padding: 0.45em 0.6em; margin: 0 0.25em; line-height: 1; border-radius: 0.35em;\">\n",
       "    approximately 600km to 1200km\n",
       "    <span style=\"font-size: 0.8em; font-weight: bold; line-height: 1; border-radius: 0.35em; text-transform: uppercase; vertical-align: middle; margin-left: 0.5rem\">QUANTITY</span>\n",
       "</mark>\n",
       " north of \n",
       "<mark class=\"entity\" style=\"background: #feca74; padding: 0.45em 0.6em; margin: 0 0.25em; line-height: 1; border-radius: 0.35em;\">\n",
       "    perth\n",
       "    <span style=\"font-size: 0.8em; font-weight: bold; line-height: 1; border-radius: 0.35em; text-transform: uppercase; vertical-align: middle; margin-left: 0.5rem\">GPE</span>\n",
       "</mark>\n",
       ". parts of the adjacent \n",
       "<mark class=\"entity\" style=\"background: #feca74; padding: 0.45em 0.6em; margin: 0 0.25em; line-height: 1; border-radius: 0.35em;\">\n",
       "    coolcalalaya\n",
       "    <span style=\"font-size: 0.8em; font-weight: bold; line-height: 1; border-radius: 0.35em; text-transform: uppercase; vertical-align: middle; margin-left: 0.5rem\">GPE</span>\n",
       "</mark>\n",
       " rift are also deemed to be prospective for potash mineralisation and have been included in the \n",
       "<mark class=\"entity\" style=\"background: #aa9cfc; padding: 0.45em 0.6em; margin: 0 0.25em; line-height: 1; border-radius: 0.35em;\">\n",
       "    gascoyne\n",
       "    <span style=\"font-size: 0.8em; font-weight: bold; line-height: 1; border-radius: 0.35em; text-transform: uppercase; vertical-align: middle; margin-left: 0.5rem\">PERSON</span>\n",
       "</mark>\n",
       " project. the tenement area was chosen on the basis of interpreted seismic data indicating areas that are possible hosts for evaporite deposits. tenure (figure \n",
       "<mark class=\"entity\" style=\"background: #e4e7d2; padding: 0.45em 0.6em; margin: 0 0.25em; line-height: 1; border-radius: 0.35em;\">\n",
       "    1\n",
       "    <span style=\"font-size: 0.8em; font-weight: bold; line-height: 1; border-radius: 0.35em; text-transform: uppercase; vertical-align: middle; margin-left: 0.5rem\">CARDINAL</span>\n",
       "</mark>\n",
       ") \n",
       "<mark class=\"entity\" style=\"background: #7aecec; padding: 0.45em 0.6em; margin: 0 0.25em; line-height: 1; border-radius: 0.35em;\">\n",
       "    e9\n",
       "    <span style=\"font-size: 0.8em; font-weight: bold; line-height: 1; border-radius: 0.35em; text-transform: uppercase; vertical-align: middle; margin-left: 0.5rem\">ORG</span>\n",
       "</mark>\n",
       " 1443 was granted on \n",
       "<mark class=\"entity\" style=\"background: #bfe1d9; padding: 0.45em 0.6em; margin: 0 0.25em; line-height: 1; border-radius: 0.35em;\">\n",
       "    27 february 2008\n",
       "    <span style=\"font-size: 0.8em; font-weight: bold; line-height: 1; border-radius: 0.35em; text-transform: uppercase; vertical-align: middle; margin-left: 0.5rem\">DATE</span>\n",
       "</mark>\n",
       " in the name of \n",
       "<mark class=\"entity\" style=\"background: #7aecec; padding: 0.45em 0.6em; margin: 0 0.25em; line-height: 1; border-radius: 0.35em;\">\n",
       "    holocene pty ltd\n",
       "    <span style=\"font-size: 0.8em; font-weight: bold; line-height: 1; border-radius: 0.35em; text-transform: uppercase; vertical-align: middle; margin-left: 0.5rem\">ORG</span>\n",
       "</mark>\n",
       ".</div></span>"
      ],
      "text/plain": [
       "<IPython.core.display.HTML object>"
      ]
     },
     "metadata": {},
     "output_type": "display_data"
    }
   ],
   "source": [
    "example = nlp(eventdf.iloc[5]['event_text'])\n",
    "display_ent(example)"
   ]
  },
  {
   "cell_type": "code",
   "execution_count": null,
   "metadata": {},
   "outputs": [],
   "source": []
  }
 ],
 "metadata": {
  "kernelspec": {
   "display_name": "loudml",
   "language": "python",
   "name": "loudml"
  },
  "language_info": {
   "codemirror_mode": {
    "name": "ipython",
    "version": 3
   },
   "file_extension": ".py",
   "mimetype": "text/x-python",
   "name": "python",
   "nbconvert_exporter": "python",
   "pygments_lexer": "ipython3",
   "version": "3.7.4"
  }
 },
 "nbformat": 4,
 "nbformat_minor": 4
}
