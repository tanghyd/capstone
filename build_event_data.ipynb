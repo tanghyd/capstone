{
 "cells": [
  {
   "cell_type": "code",
   "execution_count": 4,
   "metadata": {
    "scrolled": false
   },
   "outputs": [
    {
     "name": "stdout",
     "output_type": "stream",
     "text": [
      "The autoreload extension is already loaded. To reload it, use:\n",
      "  %reload_ext autoreload\n"
     ]
    }
   ],
   "source": [
    "%load_ext autoreload\n",
    "%autoreload 2\n",
    "\n",
    "from build_events import *"
   ]
  },
  {
   "cell_type": "code",
   "execution_count": 5,
   "metadata": {},
   "outputs": [
    {
     "name": "stderr",
     "output_type": "stream",
     "text": [
      "Loading files as dict: 100%|██████████| 32646/32646 [00:05<00:00, 5715.21it/s] \n"
     ]
    },
    {
     "name": "stdout",
     "output_type": "stream",
     "text": [
      "251 events labelled by daniel.\n",
      "1008 events labelled by charlie.\n"
     ]
    }
   ],
   "source": [
    "# load spacy model\n",
    "nlp = load_spacy_model(output_type='doc', trigger_matcher=True, lemmatizer=False, geological_matcher=True,\n",
    "    stopword_removal=False, punctuation_removal=False, lemmatize_triggers=True, verbose=False)\n",
    "\n",
    "# load files and geoview metadata\n",
    "capstone_files, files = get_report_data(count_sentences=True, return_files=True)\n",
    "\n",
    "metadata = pd.read_csv('data/geoview/capstone_metadata.zip', compression='zip', parse_dates=['report_year'],\n",
    "    usecols=['anumber','title','report_type','project','keywords','commodity','report_year'])\n",
    "\n",
    "geoview = gpd.read_file('zip://data/geoview/capstone_shapefiles.shp.zip')\n",
    "\n",
    "# specify labellers\n",
    "users = ('daniel','charlie')\n",
    "dataset = {\n",
    "    user : pd.read_csv(f'data/labels/{user}_dataset.csv', index_col=0).rename(\n",
    "        columns={'idx': 'sentence_idx'}) for user in users}\n",
    "confs = ('low','medium','high',)\n",
    "group_all_labelled = False\n",
    "\n",
    "for user in users:\n",
    "    print(f'{len(dataset[user].loc[dataset[user].reviewed])} events labelled by {user}.')"
   ]
  },
  {
   "cell_type": "code",
   "execution_count": 6,
   "metadata": {
    "scrolled": false
   },
   "outputs": [
    {
     "name": "stderr",
     "output_type": "stream",
     "text": [
      "Extracting low confidence events: 1212it [00:26, 45.06it/s] \n",
      "Extracting medium confidence events: 1212it [00:25, 47.20it/s] \n",
      "Extracting high confidence events: 1212it [00:26, 45.20it/s] \n"
     ]
    }
   ],
   "source": [
    "# loads events by confidence - note will not load group labelled\n",
    "events = {conf: build_event_data(dataset, confidence=conf, files=files, nlp=nlp, capstone_files=capstone_files,\n",
    "    geoview=geoview, return_entities=True, group_all_labelled=group_all_labelled) for conf in confs}\n",
    "\n",
    "# build geopandas.geodataframe.GeoDataFrame (to start with geoview to preserve data type for plotly map)\n",
    "# join geoview shape files, geoview metadata, capstone json to anumber mapping, and aggregated event statistics\n",
    "df = {conf : geoview.merge(metadata, on='anumber').merge(capstone_files, on='anumber').merge(\n",
    "    events[conf].groupby('filename')['label'].sum().reset_index(), on='filename') for conf in confs}\n",
    "\n",
    "# store one hot encodings for each of the events dataframes\n",
    "commodities = {}\n",
    "for conf in confs:\n",
    "    df[conf]['commodity_list'] = df[conf]['commodity'].apply(lambda x : to_list(x, sep=';', default='NO TARGET COMMODITY'))  # expand string separated strings to list\n",
    "    mlb = MultiLabelBinarizer()\n",
    "    mlb.fit(df[conf]['commodity_list'])\n",
    "    commodities[conf] = pd.DataFrame(mlb.transform(df[conf]['commodity_list']), columns=mlb.classes_, index=df[conf].index)\n"
   ]
  },
  {
   "cell_type": "code",
   "execution_count": 7,
   "metadata": {
    "scrolled": false
   },
   "outputs": [
    {
     "data": {
      "text/html": [
       "<div>\n",
       "<style scoped>\n",
       "    .dataframe tbody tr th:only-of-type {\n",
       "        vertical-align: middle;\n",
       "    }\n",
       "\n",
       "    .dataframe tbody tr th {\n",
       "        vertical-align: top;\n",
       "    }\n",
       "\n",
       "    .dataframe thead th {\n",
       "        text-align: right;\n",
       "    }\n",
       "</style>\n",
       "<table border=\"1\" class=\"dataframe\">\n",
       "  <thead>\n",
       "    <tr style=\"text-align: right;\">\n",
       "      <th></th>\n",
       "      <th>event_id</th>\n",
       "      <th>filename</th>\n",
       "      <th>sentence_idx</th>\n",
       "      <th>label</th>\n",
       "    </tr>\n",
       "  </thead>\n",
       "  <tbody>\n",
       "  </tbody>\n",
       "</table>\n",
       "</div>"
      ],
      "text/plain": [
       "Empty DataFrame\n",
       "Columns: [event_id, filename, sentence_idx, label]\n",
       "Index: []"
      ]
     },
     "metadata": {},
     "output_type": "display_data"
    },
    {
     "data": {
      "text/html": [
       "<div>\n",
       "<style scoped>\n",
       "    .dataframe tbody tr th:only-of-type {\n",
       "        vertical-align: middle;\n",
       "    }\n",
       "\n",
       "    .dataframe tbody tr th {\n",
       "        vertical-align: top;\n",
       "    }\n",
       "\n",
       "    .dataframe thead th {\n",
       "        text-align: right;\n",
       "    }\n",
       "</style>\n",
       "<table border=\"1\" class=\"dataframe\">\n",
       "  <thead>\n",
       "    <tr style=\"text-align: right;\">\n",
       "      <th></th>\n",
       "      <th>event_id</th>\n",
       "      <th>filename</th>\n",
       "      <th>sentence_idx</th>\n",
       "      <th>label</th>\n",
       "    </tr>\n",
       "  </thead>\n",
       "  <tbody>\n",
       "  </tbody>\n",
       "</table>\n",
       "</div>"
      ],
      "text/plain": [
       "Empty DataFrame\n",
       "Columns: [event_id, filename, sentence_idx, label]\n",
       "Index: []"
      ]
     },
     "metadata": {},
     "output_type": "display_data"
    },
    {
     "data": {
      "text/html": [
       "<div>\n",
       "<style scoped>\n",
       "    .dataframe tbody tr th:only-of-type {\n",
       "        vertical-align: middle;\n",
       "    }\n",
       "\n",
       "    .dataframe tbody tr th {\n",
       "        vertical-align: top;\n",
       "    }\n",
       "\n",
       "    .dataframe thead th {\n",
       "        text-align: right;\n",
       "    }\n",
       "</style>\n",
       "<table border=\"1\" class=\"dataframe\">\n",
       "  <thead>\n",
       "    <tr style=\"text-align: right;\">\n",
       "      <th></th>\n",
       "      <th>event_id</th>\n",
       "      <th>filename</th>\n",
       "      <th>sentence_idx</th>\n",
       "      <th>label</th>\n",
       "    </tr>\n",
       "  </thead>\n",
       "  <tbody>\n",
       "  </tbody>\n",
       "</table>\n",
       "</div>"
      ],
      "text/plain": [
       "Empty DataFrame\n",
       "Columns: [event_id, filename, sentence_idx, label]\n",
       "Index: []"
      ]
     },
     "metadata": {},
     "output_type": "display_data"
    }
   ],
   "source": [
    "# check duplicates\n",
    "for conf in confs:\n",
    "    display(events[conf].loc[\n",
    "        (events[conf][['event_id']].duplicated(keep=False)) &\n",
    "        ~(events[conf][['event_id','label']].duplicated(keep=False))\n",
    "    ].sort_values('event_id')[['event_id','filename','sentence_idx','label']])"
   ]
  },
  {
   "cell_type": "code",
   "execution_count": 8,
   "metadata": {},
   "outputs": [],
   "source": [
    "for conf in confs:\n",
    "    if group_all_labelled:\n",
    "        events[conf].to_csv(f'data/events/events_{conf}-conf-extra.csv')\n",
    "        commodities[conf].to_csv(f'data/events/commodities_{conf}-conf-extra.csv')\n",
    "    else:\n",
    "        events[conf].to_csv(f'data/events/events_{conf}-conf.csv')\n",
    "        commodities[conf].to_csv(f'data/events/commodities_{conf}-conf.csv')"
   ]
  }
 ],
 "metadata": {
  "kernelspec": {
   "display_name": "capstone",
   "language": "python",
   "name": "capstone"
  },
  "language_info": {
   "codemirror_mode": {
    "name": "ipython",
    "version": 3
   },
   "file_extension": ".py",
   "mimetype": "text/x-python",
   "name": "python",
   "nbconvert_exporter": "python",
   "pygments_lexer": "ipython3",
   "version": "3.8.5"
  }
 },
 "nbformat": 4,
 "nbformat_minor": 4
}
