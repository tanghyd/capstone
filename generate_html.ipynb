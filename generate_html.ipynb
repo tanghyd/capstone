{
 "cells": [
  {
   "cell_type": "code",
   "execution_count": 12,
   "metadata": {},
   "outputs": [
    {
     "name": "stdout",
     "output_type": "stream",
     "text": [
      "The autoreload extension is already loaded. To reload it, use:\n",
      "  %reload_ext autoreload\n"
     ]
    }
   ],
   "source": [
    "%load_ext autoreload\n",
    "%autoreload 2"
   ]
  },
  {
   "cell_type": "code",
   "execution_count": 13,
   "metadata": {},
   "outputs": [],
   "source": [
    "import pandas as pd\n",
    "\n",
    "from pipeline.utils.display import generate_html, display_ent\n",
    "from pipeline.preprocessing.text import load_spacy_model"
   ]
  },
  {
   "cell_type": "code",
   "execution_count": 14,
   "metadata": {},
   "outputs": [
    {
     "name": "stdout",
     "output_type": "stream",
     "text": [
      "Added geological entity matcher pipe\n",
      "Added trigger phrase matcher pipe\n",
      "Loading spaCy model with spaCy doc output.\n"
     ]
    }
   ],
   "source": [
    "# load language model\n",
    "nlp = load_spacy_model(output_type='doc', trigger_matcher=True, lemmatizer=False, geological_matcher=True,\n",
    "                       stopword_removal=False, punctuation_removal=False, lemmatize_triggers=True)\n",
    "\n",
    "# load test data\n",
    "df = pd.read_csv('data/classification/events_high-conf.csv', index_col=0)"
   ]
  },
  {
   "cell_type": "code",
   "execution_count": 15,
   "metadata": {},
   "outputs": [
    {
     "data": {
      "text/plain": [
       "1212"
      ]
     },
     "execution_count": 15,
     "metadata": {},
     "output_type": "execute_result"
    }
   ],
   "source": [
    "202*6"
   ]
  },
  {
   "cell_type": "code",
   "execution_count": null,
   "metadata": {},
   "outputs": [],
   "source": [
    "from pipeline.utils.helpers import Timer\n",
    "\n",
    "with Timer():\n",
    "    # in my case in had 6 cores with 1212 events total - batched them into 202\n",
    "    # in general probably just set n_process=-1 and batch_size to 50 or 100?\n",
    "    event_html = {event_id : html for event_id, html in zip(df.event_id.values, generate_html(\n",
    "        df.event_text.values, batch_size=202, n_process=6))}"
   ]
  },
  {
   "cell_type": "code",
   "execution_count": null,
   "metadata": {},
   "outputs": [],
   "source": [
    "# this is equivalent to the pipeline.utils.display.generate_html function\n",
    "# event_html = {event_id : display_ent(doc, jupyter=False) for event_id, doc in zip(df.event_id.values, docs)}"
   ]
  },
  {
   "cell_type": "code",
   "execution_count": null,
   "metadata": {},
   "outputs": [],
   "source": [
    "import json\n",
    "with open('data/html/events_html.json', 'w+') as f:\n",
    "    json.dump(event_html, f)"
   ]
  },
  {
   "cell_type": "code",
   "execution_count": null,
   "metadata": {},
   "outputs": [],
   "source": []
  }
 ],
 "metadata": {
  "kernelspec": {
   "display_name": "capstone",
   "language": "python",
   "name": "capstone"
  },
  "language_info": {
   "codemirror_mode": {
    "name": "ipython",
    "version": 3
   },
   "file_extension": ".py",
   "mimetype": "text/x-python",
   "name": "python",
   "nbconvert_exporter": "python",
   "pygments_lexer": "ipython3",
   "version": "3.8.5"
  }
 },
 "nbformat": 4,
 "nbformat_minor": 4
}
