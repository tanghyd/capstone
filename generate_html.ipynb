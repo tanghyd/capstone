{
 "cells": [
  {
   "cell_type": "code",
   "execution_count": 1,
   "metadata": {},
   "outputs": [],
   "source": [
    "%load_ext autoreload\n",
    "%autoreload 2"
   ]
  },
  {
   "cell_type": "code",
   "execution_count": 2,
   "metadata": {},
   "outputs": [
    {
     "name": "stderr",
     "output_type": "stream",
     "text": [
      "Rendering spaCy entities as HTML: 1212it [00:33, 36.66it/s] \n",
      "Saving pre-rendered .html to data/html/spacy/: 100%|██████████| 1212/1212 [00:00<00:00, 25032.11it/s]\n"
     ]
    }
   ],
   "source": [
    "from pipeline.utils.display import write_html\n",
    "\n",
    "# load language model - usually safer as it may memory leak if not provided to functions, in general?)\n",
    "from pipeline.preprocessing.text import load_spacy_model\n",
    "nlp = load_spacy_model(output_type='doc', trigger_matcher=True, lemmatizer=False, geological_matcher=True,\n",
    "    stopword_removal=False, punctuation_removal=False, lemmatize_triggers=True, verbose=False)\n",
    "\n",
    "write_html('data/classification/events_high-conf.csv', nlp=nlp, batch_size=202, n_process=6)"
   ]
  },
  {
   "cell_type": "code",
   "execution_count": null,
   "metadata": {},
   "outputs": [],
   "source": [
    "# import pandas as pd\n",
    "# import json\n",
    "# from tqdm import tqdm\n",
    "\n",
    "# from pipeline.utils.display import generate_html, display_ent\n",
    "# from pipeline.preprocessing.text import load_spacy_model\n",
    "\n",
    "# # load language model\n",
    "# nlp = load_spacy_model(output_type='doc', trigger_matcher=True, lemmatizer=False, geological_matcher=True,\n",
    "#     stopword_removal=False, punctuation_removal=False, lemmatize_triggers=True, verbose=False)\n",
    "\n",
    "# # load test data\n",
    "# df = pd.read_csv('data/classification/events_high-conf.csv', index_col=0)\n",
    "\n",
    "# from pipeline.utils.helpers import Timer\n",
    "\n",
    "# with Timer():\n",
    "#     # in my case in had 6 cores with 1212 events total - batched them into 202\n",
    "#     # in general probably just set n_process=-1 and batch_size to 50 or 100?\n",
    "#     event_html = {event_id : html for event_id, html in zip(df.event_id.values, generate_html(\n",
    "#         df.event_text.values, batch_size=202, n_process=6))}\n",
    "    \n",
    "# for event_id, html in tqdm(event_html.items(), desc='Saving pre-rendered .html to data/html/spacy/'):\n",
    "#     with open(f'data/html/spacy/{event_id}.html', 'w+') as f:\n",
    "#         f.write(html)"
   ]
  }
 ],
 "metadata": {
  "kernelspec": {
   "display_name": "capstone",
   "language": "python",
   "name": "capstone"
  },
  "language_info": {
   "codemirror_mode": {
    "name": "ipython",
    "version": 3
   },
   "file_extension": ".py",
   "mimetype": "text/x-python",
   "name": "python",
   "nbconvert_exporter": "python",
   "pygments_lexer": "ipython3",
   "version": "3.8.5"
  }
 },
 "nbformat": 4,
 "nbformat_minor": 4
}
