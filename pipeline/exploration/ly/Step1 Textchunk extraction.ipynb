{
 "cells": [
  {
   "cell_type": "code",
   "execution_count": 18,
   "metadata": {},
   "outputs": [],
   "source": [
    "import json\n",
    "import os, glob #glob to open file folder\n",
    "import csv #to read and write csv file \n",
    "import pandas as pd"
   ]
  },
  {
   "cell_type": "code",
   "execution_count": 14,
   "metadata": {},
   "outputs": [],
   "source": [
    "#set your own data folder \n",
    "folder_path = r'C:\\Users\\ihard\\OneDrive - The University of Western Australia\\Uni\\2020 Sem 2\\CITS5553\\wamex_section_3'"
   ]
  },
  {
   "cell_type": "code",
   "execution_count": 3,
   "metadata": {},
   "outputs": [],
   "source": [
    "#To get the text from a json file \n",
    "def get_text(filename): \n",
    "    with open(filename, 'r') as f:\n",
    "        text = json.load(f)\n",
    "        return text"
   ]
  },
  {
   "cell_type": "code",
   "execution_count": 44,
   "metadata": {},
   "outputs": [],
   "source": [
    "#To run a loop through all json text files in one folder and get text from each file. \n",
    "\n",
    "data = []\n",
    "\n",
    "trigger_words = [\"potential\",\"drill\",\"drilling\",\"mineralisation\",\"contain\",\"promising\",\"found\",\"possible\"]\n",
    "for filename in glob.glob(os.path.join(folder_path, '*.json')):\n",
    "    text = get_text(filename)\n",
    "\n",
    "    for i in range(len(text)): \n",
    "        sentence = text[i].split()\n",
    "        for word in sentence: \n",
    "            if word in trigger_words: #choose the trigger words\n",
    "                text_chunk = \" \".join(text[max(0,i-3):min(len(text),i+3)])\n",
    "                data.append([filename,text[i],word,text_chunk])\n",
    "            \n",
    "            \n",
    "df = pd.DataFrame(data, columns=['File', 'Trigger_Sentence','Trigger_Word','Text_Chunk'])"
   ]
  },
  {
   "cell_type": "code",
   "execution_count": 45,
   "metadata": {},
   "outputs": [],
   "source": [
    "df.to_csv(\"Found_Chunks.csv\")"
   ]
  }
 ],
 "metadata": {
  "kernelspec": {
   "display_name": "Python 3",
   "language": "python",
   "name": "python3"
  },
  "language_info": {
   "codemirror_mode": {
    "name": "ipython",
    "version": 3
   },
   "file_extension": ".py",
   "mimetype": "text/x-python",
   "name": "python",
   "nbconvert_exporter": "python",
   "pygments_lexer": "ipython3",
   "version": "3.7.4"
  }
 },
 "nbformat": 4,
 "nbformat_minor": 4
}
