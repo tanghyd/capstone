{
 "cells": [
  {
   "cell_type": "code",
   "execution_count": 35,
   "metadata": {},
   "outputs": [],
   "source": [
    "from pathlib import Path\n",
    "from textblob import TextBlob\n",
    "import nltk\n",
    "nltk.download('vader_lexicon')\n",
    "from nltk.sentiment.vader import SentimentIntensityAnalyzer\n",
    "\n",
    "BASE_PATH = Path('..')\n",
    "events_path = BASE_PATH / 'events'\n",
    "dictionary_path = BASE_PATH / 'dictionary'\n",
    "data_path = BASE_PATH / 'data'\n",
    "subset_reports_path = data_path / 'subset'\n",
    "subset_reports_path_txt = data_path / 'subset_txt'\n",
    "df_path = data_path / 'dataframes'\n",
    "patterns_path = dictionary_path / 'patterns'\n",
    "triggers_path = dictionary_path / 'trigger phrases'\n",
    "\n",
    "GROUP = 0\n",
    "group_events_path = events_path / f'group_{GROUP}_events.csv'\n",
    "labelled_path = events_path / f'group_{GROUP}_labelled.csv'\n",
    "processed_path = events_path / f'group_{GROUP}_processed.csv'"
   ]
  },
  {
   "cell_type": "code",
   "execution_count": 33,
   "metadata": {},
   "outputs": [],
   "source": [
    "#Read in labelled event data file from 6 groups\n",
    "\n",
    "groups = [0, 1, 2, 3, 4, 6] # lol\n",
    "\n",
    "filenames = {group: events_path / f'group_{group}_labelled.csv' for group in groups}\n",
    "\n",
    "# instantiate empty list to store dfs on read\n",
    "dfall = []\n",
    "for group in groups:\n",
    "    df = pd.read_csv(filenames[group])\n",
    "    \n",
    "    # data processing and cleaning on near miss event column\n",
    "    df = df.loc[df['Near Miss Event'].notna(), ]\n",
    "    \n",
    "    # pd.Series(['False']) returns True as string are converted to bool on whether they are empty or not!\n",
    "    df['Near Miss Event'] = df['Near Miss Event'].apply(lambda x : (x == 'True') | (x == True)).astype(bool)\n",
    "    \n",
    "    # need to read in dataframe to work out length of group column\n",
    "    df.insert(2, 'group', np.repeat(group, len(df)))\n",
    "    dfall.append(df)\n",
    "    \n",
    "# concat list of dfs as a single data frame\n",
    "dfall = pd.concat(dfall)"
   ]
  },
  {
   "cell_type": "code",
   "execution_count": 82,
   "metadata": {},
   "outputs": [
    {
     "name": "stdout",
     "output_type": "stream",
     "text": [
      "{'neg': 0.0, 'neu': 1.0, 'pos': 0.0, 'compound': 0.0}\n"
     ]
    },
    {
     "data": {
      "text/plain": [
       "0.0"
      ]
     },
     "execution_count": 82,
     "metadata": {},
     "output_type": "execute_result"
    }
   ],
   "source": [
    "sid = SentimentIntensityAnalyzer()\n",
    "score = sid.polarity_scores(sentence)\n",
    "\n",
    "\n",
    "def nltk_scores(text):\n",
    "    score = sid.polarity_scores(text)\n",
    "    negative = score['neg']\n",
    "    neutral = score['neu']\n",
    "    positive = score['pos']\n",
    "    compound = score['compound']\n",
    "    return [negative, neutral, positive, compound]\n"
   ]
  },
  {
   "cell_type": "code",
   "execution_count": 83,
   "metadata": {},
   "outputs": [],
   "source": [
    "dfall['polarity'] = dfall.event_text.apply(lambda text : TextBlob(text).sentiment.polarity)\n",
    "dfall['subjectivity'] = dfall.event_text.apply(lambda text : TextBlob(text).sentiment.subjectivity)\n",
    "dfall['negative'] = dfall.event_text.apply(lambda text : nltk_scores(text)[0])\n",
    "dfall['neutral'] = dfall.event_text.apply(lambda text : nltk_scores(text)[1])\n",
    "dfall['positive'] = dfall.event_text.apply(lambda text : nltk_scores(text)[2])\n",
    "dfall['compound'] = dfall.event_text.apply(lambda text : nltk_scores(text)[3])"
   ]
  },
  {
   "cell_type": "code",
   "execution_count": 85,
   "metadata": {},
   "outputs": [],
   "source": [
    "dfall.to_csv(events_path / f'group_all_labelled_with_sentiment.csv', index=False)"
   ]
  }
 ],
 "metadata": {
  "kernelspec": {
   "display_name": "Python 3",
   "language": "python",
   "name": "python3"
  },
  "language_info": {
   "codemirror_mode": {
    "name": "ipython",
    "version": 3
   },
   "file_extension": ".py",
   "mimetype": "text/x-python",
   "name": "python",
   "nbconvert_exporter": "python",
   "pygments_lexer": "ipython3",
   "version": "3.8.5"
  }
 },
 "nbformat": 4,
 "nbformat_minor": 4
}
