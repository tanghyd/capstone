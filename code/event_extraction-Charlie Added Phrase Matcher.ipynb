{
 "cells": [
  {
   "cell_type": "code",
   "execution_count": 25,
   "metadata": {},
   "outputs": [
    {
     "name": "stdout",
     "output_type": "stream",
     "text": [
      "The autoreload extension is already loaded. To reload it, use:\n",
      "  %reload_ext autoreload\n"
     ]
    }
   ],
   "source": [
    "%load_ext autoreload\n",
    "%autoreload 2"
   ]
  },
  {
   "cell_type": "code",
   "execution_count": 26,
   "metadata": {},
   "outputs": [],
   "source": [
    "import re\n",
    "import os\n",
    "import glob\n",
    "from pathlib import Path\n",
    "import json\n",
    "from shutil import copyfile\n",
    "import itertools\n",
    "from collections import Counter\n",
    "\n",
    "# analytics\n",
    "import pandas as pd\n",
    "import numpy as np\n",
    "\n",
    "# Visualisation\n",
    "import seaborn as sns\n",
    "import matplotlib.pyplot as plt\n",
    "%matplotlib inline"
   ]
  },
  {
   "cell_type": "code",
   "execution_count": 27,
   "metadata": {},
   "outputs": [],
   "source": [
    "# Spacy Imports\n",
    "import spacy\n",
    "\n",
    "from spacy import displacy\n",
    "from spacy.pipeline import EntityRuler\n",
    "from spacy.matcher import PhraseMatcher\n",
    "from spacy.tokens import Doc, Span, Token\n",
    "from spacy.attrs import intify_attrs\n",
    "\n",
    "def display_ent(doc):\n",
    "    displacy.render(doc, style=\"ent\", jupyter=True)\n",
    "\n",
    "spacy_model = \"en_core_web_lg\"\n",
    "\n",
    "nlp = spacy.load(spacy_model)"
   ]
  },
  {
   "cell_type": "code",
   "execution_count": 28,
   "metadata": {},
   "outputs": [],
   "source": [
    "# User Source Code\n",
    "\n",
    "import utilsCharlie"
   ]
  },
  {
   "cell_type": "code",
   "execution_count": 29,
   "metadata": {},
   "outputs": [],
   "source": [
    "# Project Base\n",
    "base_path = Path('..')\n",
    "\n",
    "# Data Paths\n",
    "data_path = base_path / 'data'\n",
    "all_reports_path = data_path / 'wamex_xml'\n",
    "subset_reports_path = data_path / 'subset'\n",
    "test_reports_path = data_path / 'testset'\n",
    "\n",
    "# Event Path\n",
    "events_path = base_path / 'events'\n",
    "\n",
    "# Dictionary Paths\n",
    "dictionary_path = base_path / 'dictionary'\n",
    "triggers_path = dictionary_path / 'triggers'\n",
    "patterns_path = dictionary_path / 'patterns'"
   ]
  },
  {
   "cell_type": "markdown",
   "metadata": {},
   "source": [
    "# NLP"
   ]
  },
  {
   "cell_type": "markdown",
   "metadata": {},
   "source": [
    "## Load Match Pattern Pipelines"
   ]
  },
  {
   "cell_type": "code",
   "execution_count": 30,
   "metadata": {},
   "outputs": [
    {
     "name": "stdout",
     "output_type": "stream",
     "text": [
      "loaded 31120 patterns\n"
     ]
    }
   ],
   "source": [
    "patterns = []\n",
    "for filename in patterns_path.iterdir():\n",
    "    with open(filename, encoding=\"utf8\") as f:\n",
    "        patterns += json.load(f)\n",
    "        \n",
    "print(f'loaded {len(patterns)} patterns')"
   ]
  },
  {
   "cell_type": "code",
   "execution_count": 31,
   "metadata": {},
   "outputs": [
    {
     "data": {
      "text/plain": [
       "[{'label': 'ROCK',\n",
       "  'pattern': [{'LOWER': 'acapulcoite'}, {'LOWER': 'meteorite'}]},\n",
       " {'label': 'ROCK', 'pattern': [{'LOWER': 'aceite'}]},\n",
       " {'label': 'ROCK',\n",
       "  'pattern': [{'LOWER': 'acid'}, {'LOWER': 'volcanic'}, {'LOWER': 'rock'}]},\n",
       " {'label': 'ROCK', 'pattern': [{'LOWER': 'adakite'}]},\n",
       " {'label': 'ROCK', 'pattern': [{'LOWER': 'adamellite'}]}]"
      ]
     },
     "execution_count": 31,
     "metadata": {},
     "output_type": "execute_result"
    }
   ],
   "source": [
    "patterns[:5]"
   ]
  },
  {
   "cell_type": "markdown",
   "metadata": {},
   "source": [
    "## Add patterns to nlp"
   ]
  },
  {
   "cell_type": "code",
   "execution_count": 32,
   "metadata": {},
   "outputs": [],
   "source": [
    "ruler = EntityRuler(nlp, overwrite_ents=True)\n",
    "ruler.add_patterns(patterns)\n",
    "\n",
    "nlp.add_pipe(ruler)"
   ]
  },
  {
   "cell_type": "markdown",
   "metadata": {},
   "source": [
    "## Load Trigger Words"
   ]
  },
  {
   "cell_type": "code",
   "execution_count": 33,
   "metadata": {},
   "outputs": [
    {
     "name": "stdout",
     "output_type": "stream",
     "text": [
      "loaded 25 trigger words\n",
      "\n",
      "['potential', 'drill', 'drilling', 'mineralisation', 'contain', 'promise', 'find', 'possible', 'enrich', 'enrichment', 'subeconomic', 'encouraging', 'extensive', 'patchy', 'minor', 'further drilling', 'low grade', 'medium grade', 'follow up', 'weak intercepts', 'minor intercepts', 'open at depth', 'along strike', 'exploration licence', 'prospective']\n"
     ]
    }
   ],
   "source": [
    "trigger_words = []\n",
    "for filename in triggers_path.iterdir():\n",
    "    with open(filename, 'r') as f:\n",
    "        trigger_words += [w.strip() for w in f.readlines()]\n",
    "    \n",
    "print(f'loaded {len(trigger_words)} trigger words\\n')\n",
    "print(trigger_words)"
   ]
  },
  {
   "cell_type": "markdown",
   "metadata": {},
   "source": [
    "# Load Trigger Phrases/Words into Spacy PhraseMatcher\n"
   ]
  },
  {
   "cell_type": "code",
   "execution_count": 34,
   "metadata": {},
   "outputs": [],
   "source": [
    "triggerPhrase = dictionary_path / 'trigger phrases'\n",
    "near_miss_phrases =[]\n",
    "for filename in triggerPhrase.iterdir():\n",
    "    with open(filename, 'r') as f:\n",
    "        for line in f:\n",
    "            if len(line) > 1:\n",
    "                near_miss_phrases.append(line[:-2].split())\n",
    "f.close()"
   ]
  },
  {
   "cell_type": "markdown",
   "metadata": {},
   "source": [
    "## Geology ent's to extract"
   ]
  },
  {
   "cell_type": "code",
   "execution_count": 35,
   "metadata": {},
   "outputs": [],
   "source": [
    "geology_ents = ['ORE_DEPOSIT', 'ROCK', 'MINERAL', 'STRAT', 'LOCATION', 'TIMESCALE']"
   ]
  },
  {
   "cell_type": "markdown",
   "metadata": {},
   "source": [
    "# Event Extraction"
   ]
  },
  {
   "cell_type": "code",
   "execution_count": 42,
   "metadata": {},
   "outputs": [
    {
     "name": "stdout",
     "output_type": "stream",
     "text": [
      "extracting events on 100 files\n",
      "1\n",
      "2\n",
      "3\n",
      "4\n",
      "5\n",
      "6\n",
      "7\n",
      "8\n",
      "9\n",
      "10\n",
      "11\n",
      "12\n",
      "13\n",
      "14\n",
      "15\n",
      "16\n",
      "17\n",
      "18\n",
      "19\n",
      "20\n",
      "21\n",
      "22\n",
      "23\n",
      "24\n",
      "25\n",
      "26\n",
      "27\n",
      "28\n",
      "29\n",
      "30\n",
      "31\n",
      "32\n",
      "33\n",
      "34\n",
      "35\n",
      "36\n",
      "37\n",
      "38\n",
      "39\n",
      "40\n",
      "41\n",
      "42\n",
      "43\n",
      "44\n",
      "45\n",
      "46\n",
      "47\n",
      "48\n",
      "49\n",
      "50\n",
      "51\n",
      "52\n",
      "53\n",
      "54\n",
      "55\n",
      "56\n",
      "57\n",
      "58\n",
      "59\n",
      "60\n",
      "61\n",
      "62\n",
      "63\n",
      "64\n",
      "65\n",
      "66\n",
      "67\n",
      "68\n",
      "69\n",
      "70\n",
      "71\n",
      "72\n",
      "73\n",
      "74\n",
      "75\n",
      "76\n",
      "77\n",
      "78\n",
      "79\n",
      "80\n",
      "81\n",
      "82\n",
      "83\n",
      "84\n",
      "85\n",
      "86\n",
      "87\n",
      "88\n",
      "89\n",
      "90\n",
      "91\n",
      "92\n",
      "93\n",
      "94\n",
      "95\n",
      "96\n",
      "97\n",
      "98\n",
      "99\n",
      "100\n",
      "found 701 events from a total of 8471 sentences\n"
     ]
    }
   ],
   "source": [
    "from utilsCharlie import create_event_df\n",
    "\n",
    "eventdf = create_event_df(\n",
    "    nlp=nlp, \n",
    "    directory=subset_reports_path, \n",
    "    trigger_phrases = near_miss_phrases, \n",
    "    geology_ents=geology_ents,\n",
    "    n_sentences_extact=3,\n",
    ")\n"
   ]
  },
  {
   "cell_type": "code",
   "execution_count": 43,
   "metadata": {},
   "outputs": [
    {
     "data": {
      "text/html": [
       "<div>\n",
       "<style scoped>\n",
       "    .dataframe tbody tr th:only-of-type {\n",
       "        vertical-align: middle;\n",
       "    }\n",
       "\n",
       "    .dataframe tbody tr th {\n",
       "        vertical-align: top;\n",
       "    }\n",
       "\n",
       "    .dataframe thead th {\n",
       "        text-align: right;\n",
       "    }\n",
       "</style>\n",
       "<table border=\"1\" class=\"dataframe\">\n",
       "  <thead>\n",
       "    <tr style=\"text-align: right;\">\n",
       "      <th></th>\n",
       "      <th>event_id</th>\n",
       "      <th>filename</th>\n",
       "      <th>sentence_idx</th>\n",
       "      <th>sentence_text</th>\n",
       "      <th>n_trigger_words</th>\n",
       "      <th>trigger_words</th>\n",
       "      <th>event_text</th>\n",
       "      <th>ORE_DEPOSIT</th>\n",
       "      <th>ROCK</th>\n",
       "      <th>MINERAL</th>\n",
       "      <th>STRAT</th>\n",
       "      <th>LOCATION</th>\n",
       "      <th>TIMESCALE</th>\n",
       "      <th>event_label</th>\n",
       "    </tr>\n",
       "  </thead>\n",
       "  <tbody>\n",
       "    <tr>\n",
       "      <th>0</th>\n",
       "      <td>a072171_2005 everlasting annual rpt_12941703_1</td>\n",
       "      <td>a072171_2005 everlasting annual rpt_12941703.json</td>\n",
       "      <td>1</td>\n",
       "      <td>a detailed report titled potential of the nors...</td>\n",
       "      <td>1</td>\n",
       "      <td>[potential]</td>\n",
       "      <td>the norseman project has significant explorati...</td>\n",
       "      <td>[]</td>\n",
       "      <td>[]</td>\n",
       "      <td>[]</td>\n",
       "      <td>[]</td>\n",
       "      <td>[norseman, norseman, norseman]</td>\n",
       "      <td>[]</td>\n",
       "      <td>0</td>\n",
       "    </tr>\n",
       "    <tr>\n",
       "      <th>1</th>\n",
       "      <td>a072171_2005 everlasting annual rpt_12941703_3</td>\n",
       "      <td>a072171_2005 everlasting annual rpt_12941703.json</td>\n",
       "      <td>3</td>\n",
       "      <td>better definition of soil anomalies is require...</td>\n",
       "      <td>1</td>\n",
       "      <td>[mineralisation]</td>\n",
       "      <td>the norseman project has significant explorati...</td>\n",
       "      <td>[]</td>\n",
       "      <td>[]</td>\n",
       "      <td>[]</td>\n",
       "      <td>[]</td>\n",
       "      <td>[norseman, norseman, norseman]</td>\n",
       "      <td>[]</td>\n",
       "      <td>0</td>\n",
       "    </tr>\n",
       "    <tr>\n",
       "      <th>2</th>\n",
       "      <td>a072171_2005 everlasting annual rpt_12941703_6</td>\n",
       "      <td>a072171_2005 everlasting annual rpt_12941703.json</td>\n",
       "      <td>6</td>\n",
       "      <td>exploration potential and recommendations.</td>\n",
       "      <td>1</td>\n",
       "      <td>[potential]</td>\n",
       "      <td>better definition of soil anomalies is require...</td>\n",
       "      <td>[]</td>\n",
       "      <td>[]</td>\n",
       "      <td>[gold, gold]</td>\n",
       "      <td>[]</td>\n",
       "      <td>[australia]</td>\n",
       "      <td>[]</td>\n",
       "      <td>0</td>\n",
       "    </tr>\n",
       "    <tr>\n",
       "      <th>3</th>\n",
       "      <td>a072171_2005 everlasting annual rpt_12941703_11</td>\n",
       "      <td>a072171_2005 everlasting annual rpt_12941703.json</td>\n",
       "      <td>11</td>\n",
       "      <td>croesus have recently developed and mined by o...</td>\n",
       "      <td>1</td>\n",
       "      <td>[mineralisation]</td>\n",
       "      <td>introduction australian gold investments pty l...</td>\n",
       "      <td>[]</td>\n",
       "      <td>[banded iron formation, bif]</td>\n",
       "      <td>[gold, gold, gold]</td>\n",
       "      <td>[penneshaw formation, noganyer formation, wool...</td>\n",
       "      <td>[australia, norseman, gladstone, gladstone, gl...</td>\n",
       "      <td>[]</td>\n",
       "      <td>0</td>\n",
       "    </tr>\n",
       "    <tr>\n",
       "      <th>4</th>\n",
       "      <td>a072171_2005 everlasting annual rpt_12941703_59</td>\n",
       "      <td>a072171_2005 everlasting annual rpt_12941703.json</td>\n",
       "      <td>59</td>\n",
       "      <td>the area around the gladstone and daisy teneme...</td>\n",
       "      <td>1</td>\n",
       "      <td>[mineralisation]</td>\n",
       "      <td>this unit outcrops over the daisy deposit and ...</td>\n",
       "      <td>[]</td>\n",
       "      <td>[silcrete, basalt, dolerite, gabbro, metasedim...</td>\n",
       "      <td>[dolomite, dolomite, gold, zircon, gold]</td>\n",
       "      <td>[penneshaw formation, penneshaw formation]</td>\n",
       "      <td>[gladstone, gladstone, long]</td>\n",
       "      <td>[archaean, archaean, archaean]</td>\n",
       "      <td>0</td>\n",
       "    </tr>\n",
       "  </tbody>\n",
       "</table>\n",
       "</div>"
      ],
      "text/plain": [
       "                                          event_id  \\\n",
       "0   a072171_2005 everlasting annual rpt_12941703_1   \n",
       "1   a072171_2005 everlasting annual rpt_12941703_3   \n",
       "2   a072171_2005 everlasting annual rpt_12941703_6   \n",
       "3  a072171_2005 everlasting annual rpt_12941703_11   \n",
       "4  a072171_2005 everlasting annual rpt_12941703_59   \n",
       "\n",
       "                                            filename  sentence_idx  \\\n",
       "0  a072171_2005 everlasting annual rpt_12941703.json             1   \n",
       "1  a072171_2005 everlasting annual rpt_12941703.json             3   \n",
       "2  a072171_2005 everlasting annual rpt_12941703.json             6   \n",
       "3  a072171_2005 everlasting annual rpt_12941703.json            11   \n",
       "4  a072171_2005 everlasting annual rpt_12941703.json            59   \n",
       "\n",
       "                                       sentence_text  n_trigger_words  \\\n",
       "0  a detailed report titled potential of the nors...                1   \n",
       "1  better definition of soil anomalies is require...                1   \n",
       "2         exploration potential and recommendations.                1   \n",
       "3  croesus have recently developed and mined by o...                1   \n",
       "4  the area around the gladstone and daisy teneme...                1   \n",
       "\n",
       "      trigger_words                                         event_text  \\\n",
       "0       [potential]  the norseman project has significant explorati...   \n",
       "1  [mineralisation]  the norseman project has significant explorati...   \n",
       "2       [potential]  better definition of soil anomalies is require...   \n",
       "3  [mineralisation]  introduction australian gold investments pty l...   \n",
       "4  [mineralisation]  this unit outcrops over the daisy deposit and ...   \n",
       "\n",
       "  ORE_DEPOSIT                                               ROCK  \\\n",
       "0          []                                                 []   \n",
       "1          []                                                 []   \n",
       "2          []                                                 []   \n",
       "3          []                       [banded iron formation, bif]   \n",
       "4          []  [silcrete, basalt, dolerite, gabbro, metasedim...   \n",
       "\n",
       "                                    MINERAL  \\\n",
       "0                                        []   \n",
       "1                                        []   \n",
       "2                              [gold, gold]   \n",
       "3                        [gold, gold, gold]   \n",
       "4  [dolomite, dolomite, gold, zircon, gold]   \n",
       "\n",
       "                                               STRAT  \\\n",
       "0                                                 []   \n",
       "1                                                 []   \n",
       "2                                                 []   \n",
       "3  [penneshaw formation, noganyer formation, wool...   \n",
       "4         [penneshaw formation, penneshaw formation]   \n",
       "\n",
       "                                            LOCATION  \\\n",
       "0                     [norseman, norseman, norseman]   \n",
       "1                     [norseman, norseman, norseman]   \n",
       "2                                        [australia]   \n",
       "3  [australia, norseman, gladstone, gladstone, gl...   \n",
       "4                       [gladstone, gladstone, long]   \n",
       "\n",
       "                        TIMESCALE  event_label  \n",
       "0                              []            0  \n",
       "1                              []            0  \n",
       "2                              []            0  \n",
       "3                              []            0  \n",
       "4  [archaean, archaean, archaean]            0  "
      ]
     },
     "execution_count": 43,
     "metadata": {},
     "output_type": "execute_result"
    }
   ],
   "source": [
    "eventdf.head()"
   ]
  },
  {
   "cell_type": "markdown",
   "metadata": {},
   "source": [
    "## Save Events to csv file"
   ]
  },
  {
   "cell_type": "code",
   "execution_count": 44,
   "metadata": {},
   "outputs": [],
   "source": [
    "## Make Sure you are saving to your allocated group number\n",
    "event_path = events_path / 'group_6_events.csv'\n",
    "eventdf.to_csv(event_path, index=False)"
   ]
  },
  {
   "cell_type": "markdown",
   "metadata": {},
   "source": [
    "# Visualisations"
   ]
  },
  {
   "cell_type": "markdown",
   "metadata": {},
   "source": [
    "## Frequency of number of trigger words found in each event"
   ]
  },
  {
   "cell_type": "code",
   "execution_count": 45,
   "metadata": {},
   "outputs": [
    {
     "data": {
      "image/png": "[encoded data removed]",
      "text/plain": [
       "<Figure size 432x288 with 1 Axes>"
      ]
     },
     "metadata": {
      "needs_background": "light"
     },
     "output_type": "display_data"
    }
   ],
   "source": [
    "sns.countplot(eventdf.n_trigger_words);"
   ]
  },
  {
   "cell_type": "markdown",
   "metadata": {},
   "source": [
    "## Count of each trigger word found"
   ]
  },
  {
   "cell_type": "code",
   "execution_count": 46,
   "metadata": {},
   "outputs": [],
   "source": [
    "from utils import get_feature_counts_df"
   ]
  },
  {
   "cell_type": "code",
   "execution_count": 47,
   "metadata": {},
   "outputs": [
    {
     "data": {
      "text/html": [
       "<div>\n",
       "<style scoped>\n",
       "    .dataframe tbody tr th:only-of-type {\n",
       "        vertical-align: middle;\n",
       "    }\n",
       "\n",
       "    .dataframe tbody tr th {\n",
       "        vertical-align: top;\n",
       "    }\n",
       "\n",
       "    .dataframe thead th {\n",
       "        text-align: right;\n",
       "    }\n",
       "</style>\n",
       "<table border=\"1\" class=\"dataframe\">\n",
       "  <thead>\n",
       "    <tr style=\"text-align: right;\">\n",
       "      <th></th>\n",
       "      <th>count</th>\n",
       "    </tr>\n",
       "    <tr>\n",
       "      <th>trigger_words</th>\n",
       "      <th></th>\n",
       "    </tr>\n",
       "  </thead>\n",
       "  <tbody>\n",
       "    <tr>\n",
       "      <th>mineralisation</th>\n",
       "      <td>326</td>\n",
       "    </tr>\n",
       "    <tr>\n",
       "      <th>potential</th>\n",
       "      <td>182</td>\n",
       "    </tr>\n",
       "    <tr>\n",
       "      <th>possible</th>\n",
       "      <td>85</td>\n",
       "    </tr>\n",
       "    <tr>\n",
       "      <th>extensive</th>\n",
       "      <td>69</td>\n",
       "    </tr>\n",
       "    <tr>\n",
       "      <th>broad</th>\n",
       "      <td>50</td>\n",
       "    </tr>\n",
       "    <tr>\n",
       "      <th>low grade</th>\n",
       "      <td>25</td>\n",
       "    </tr>\n",
       "    <tr>\n",
       "      <th>encouraging</th>\n",
       "      <td>18</td>\n",
       "    </tr>\n",
       "    <tr>\n",
       "      <th>favourable</th>\n",
       "      <td>14</td>\n",
       "    </tr>\n",
       "    <tr>\n",
       "      <th>enriched</th>\n",
       "      <td>11</td>\n",
       "    </tr>\n",
       "    <tr>\n",
       "      <th>further drilling</th>\n",
       "      <td>9</td>\n",
       "    </tr>\n",
       "    <tr>\n",
       "      <th>patchy</th>\n",
       "      <td>3</td>\n",
       "    </tr>\n",
       "    <tr>\n",
       "      <th>rising</th>\n",
       "      <td>3</td>\n",
       "    </tr>\n",
       "    <tr>\n",
       "      <th>promising</th>\n",
       "      <td>3</td>\n",
       "    </tr>\n",
       "    <tr>\n",
       "      <th>follow up work</th>\n",
       "      <td>2</td>\n",
       "    </tr>\n",
       "    <tr>\n",
       "      <th>medium grade</th>\n",
       "      <td>2</td>\n",
       "    </tr>\n",
       "    <tr>\n",
       "      <th>lowgrade</th>\n",
       "      <td>1</td>\n",
       "    </tr>\n",
       "  </tbody>\n",
       "</table>\n",
       "</div>"
      ],
      "text/plain": [
       "                  count\n",
       "trigger_words          \n",
       "mineralisation      326\n",
       "potential           182\n",
       "possible             85\n",
       "extensive            69\n",
       "broad                50\n",
       "low grade            25\n",
       "encouraging          18\n",
       "favourable           14\n",
       "enriched             11\n",
       "further drilling      9\n",
       "patchy                3\n",
       "rising                3\n",
       "promising             3\n",
       "follow up work        2\n",
       "medium grade          2\n",
       "lowgrade              1"
      ]
     },
     "execution_count": 47,
     "metadata": {},
     "output_type": "execute_result"
    }
   ],
   "source": [
    "feature = 'trigger_words'\n",
    "get_feature_counts_df(eventdf, feature)"
   ]
  },
  {
   "cell_type": "code",
   "execution_count": null,
   "metadata": {},
   "outputs": [],
   "source": [
    "feature = 'ORE_DEPOSIT'\n",
    "get_feature_counts_df(eventdf, feature)"
   ]
  },
  {
   "cell_type": "code",
   "execution_count": null,
   "metadata": {},
   "outputs": [],
   "source": [
    "feature = 'STRAT'\n",
    "get_feature_counts_df(eventdf, feature)"
   ]
  },
  {
   "cell_type": "code",
   "execution_count": null,
   "metadata": {},
   "outputs": [],
   "source": [
    "feature = 'TIMESCALE'\n",
    "get_feature_counts_df(eventdf, feature)"
   ]
  },
  {
   "cell_type": "code",
   "execution_count": null,
   "metadata": {},
   "outputs": [],
   "source": [
    "feature = 'LOCATION'\n",
    "get_feature_counts_df(eventdf, feature)"
   ]
  },
  {
   "cell_type": "markdown",
   "metadata": {},
   "source": [
    "# Ent Test"
   ]
  },
  {
   "cell_type": "code",
   "execution_count": null,
   "metadata": {},
   "outputs": [],
   "source": [
    "example = nlp(eventdf.iloc[0]['event_text'])\n",
    "display_ent(example)"
   ]
  },
  {
   "cell_type": "code",
   "execution_count": null,
   "metadata": {},
   "outputs": [],
   "source": [
    "for ent in example.ents:\n",
    "    print(ent.text, ent.start_char, ent.end_char, ent.label_)"
   ]
  },
  {
   "cell_type": "code",
   "execution_count": null,
   "metadata": {},
   "outputs": [],
   "source": [
    "minerals = [ent.text for ent in example.ents if ent.label_ == 'MINERAL']\n",
    "minerals"
   ]
  }
 ],
 "metadata": {
  "kernelspec": {
   "display_name": "Python 3",
   "language": "python",
   "name": "python3"
  },
  "language_info": {
   "codemirror_mode": {
    "name": "ipython",
    "version": 3
   },
   "file_extension": ".py",
   "mimetype": "text/x-python",
   "name": "python",
   "nbconvert_exporter": "python",
   "pygments_lexer": "ipython3",
   "version": "3.8.5"
  }
 },
 "nbformat": 4,
 "nbformat_minor": 4
}
