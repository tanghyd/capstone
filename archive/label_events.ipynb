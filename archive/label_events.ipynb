{
 "cells": [
  {
   "cell_type": "code",
   "execution_count": 80,
   "metadata": {},
   "outputs": [],
   "source": [
    "GROUP = 0"
   ]
  },
  {
   "cell_type": "markdown",
   "metadata": {},
   "source": [
    "# Imports"
   ]
  },
  {
   "cell_type": "code",
   "execution_count": null,
   "metadata": {},
   "outputs": [],
   "source": [
    "from pathlib import Path\n",
    "import re\n",
    "import os\n",
    "import glob\n",
    "from pathlib import Path\n",
    "import json\n",
    "from shutil import copyfile\n",
    "import itertools\n",
    "from collections import Counter\n",
    "import pandas as pd\n",
    "import numpy as np\n",
    "\n",
    "import ipywidgets as widgets\n",
    "from ipywidgets import interact, interactive, fixed, interact_manual\n",
    "from IPython.display import display\n",
    "\n",
    "import spacy\n",
    "\n",
    "from spacy import displacy\n",
    "from spacy.pipeline import EntityRuler\n",
    "from spacy.matcher import PhraseMatcher\n",
    "from spacy.tokens import Doc, Span, Token\n",
    "from spacy.attrs import intify_attrs\n",
    "\n",
    "def display_ent(doc):\n",
    "    displacy.render(doc, style=\"ent\", jupyter=True)\n",
    "        \n",
    "base_path = Path('..')\n",
    "events_path = base_path / 'events'\n",
    "dictionary_path = base_path / 'dictionary'\n",
    "patterns_path = dictionary_path / 'patterns'\n",
    "group_events_path = events_path / f'group_{GROUP}_events.csv'\n",
    "labelled_path = events_path / f'group_{GROUP}_labelled.csv'"
   ]
  },
  {
   "cell_type": "markdown",
   "metadata": {},
   "source": [
    "# Load Spacy NLP with Custom Patterns"
   ]
  },
  {
   "cell_type": "code",
   "execution_count": 2,
   "metadata": {},
   "outputs": [],
   "source": [
    "patterns = []\n",
    "for filename in patterns_path.glob(\"*.json\"):\n",
    "    with open(filename, encoding=\"utf8\") as f:\n",
    "        patterns += json.load(f)\n",
    "        \n",
    "nlp = spacy.load(\"en_core_web_lg\")\n",
    "ruler = EntityRuler(nlp, overwrite_ents=True)\n",
    "ruler.add_patterns(patterns)\n",
    "nlp.add_pipe(ruler)"
   ]
  },
  {
   "cell_type": "markdown",
   "metadata": {},
   "source": [
    "# Load DataFrame"
   ]
  },
  {
   "cell_type": "code",
   "execution_count": 3,
   "metadata": {},
   "outputs": [],
   "source": [
    "if labelled_path.is_file():\n",
    "    df = pd.read_csv(labelled_path)\n",
    "elif group_events_path.is_file():        \n",
    "    df = pd.read_csv(group_events_path)\n",
    "    df['reviewed'] = False\n",
    "else:\n",
    "    print(f'{group_events_path} does not exist')\n",
    "    \n",
    "cols = [c for c in df.columns if not c.startswith('Unnamed')]\n",
    "df = df[cols]"
   ]
  },
  {
   "cell_type": "markdown",
   "metadata": {},
   "source": [
    "# Labelling"
   ]
  },
  {
   "cell_type": "code",
   "execution_count": 82,
   "metadata": {},
   "outputs": [
    {
     "data": {
      "application/vnd.jupyter.widget-view+json": {
       "model_id": "4bebf6c03d3f44d785c2710871f6f462",
       "version_major": 2,
       "version_minor": 0
      },
      "text/plain": [
       "HTML(value='<h3>Current Index: 285 / 530</h3>')"
      ]
     },
     "metadata": {},
     "output_type": "display_data"
    },
    {
     "data": {
      "application/vnd.jupyter.widget-view+json": {
       "model_id": "d5784d1886e7451390c1a53d935600e8",
       "version_major": 2,
       "version_minor": 0
      },
      "text/plain": [
       "HTML(value='<h3>Trigger Words:</h3><ul><li>mineralisation</li></ul>')"
      ]
     },
     "metadata": {},
     "output_type": "display_data"
    },
    {
     "data": {
      "application/vnd.jupyter.widget-view+json": {
       "model_id": "1c09f9e485424a0ca9e62f72f22b06a4",
       "version_major": 2,
       "version_minor": 0
      },
      "text/plain": [
       "Output()"
      ]
     },
     "metadata": {},
     "output_type": "display_data"
    },
    {
     "data": {
      "application/vnd.jupyter.widget-view+json": {
       "model_id": "271c75a6f2da4e789febbbbf9d046c76",
       "version_major": 2,
       "version_minor": 0
      },
      "text/plain": [
       "Textarea(value='', description='Key Triggers:')"
      ]
     },
     "metadata": {},
     "output_type": "display_data"
    },
    {
     "data": {
      "application/vnd.jupyter.widget-view+json": {
       "model_id": "fe20da10c3fd4b7e8937a1d76ea32cff",
       "version_major": 2,
       "version_minor": 0
      },
      "text/plain": [
       "VBox(children=(HBox(children=(Button(button_style='success', description='Near Miss Event', style=ButtonStyle(…"
      ]
     },
     "metadata": {},
     "output_type": "display_data"
    }
   ],
   "source": [
    "df_to_review = df.loc[~df.reviewed]\n",
    "n = len(df)\n",
    "idx = df_to_review.index[0]\n",
    "\n",
    "def get_index_text(idx):\n",
    "    return f\"<h3>Current Index: {idx} / {n}</h3>\"\n",
    "\n",
    "def get_trigger_text(idx):  \n",
    "    trigger_words = ''.join([f'<li>{w}</li>' for w in df.iloc[idx]['trigger_words_in_event'].split(',')])\n",
    "    return f\"<h3>Trigger Words:</h3><ul>{trigger_words}</ul>\"\n",
    "\n",
    "def yes_pressed(b):\n",
    "    button_pressed(label=True)\n",
    "\n",
    "def no_pressed(b):\n",
    "    button_pressed(label=False)\n",
    "\n",
    "def button_pressed(label):\n",
    "    global idx\n",
    "    \n",
    "    df.loc[idx, 'reviewed'] = True\n",
    "    df.loc[idx,'Near Miss Event'] = label\n",
    "    df.loc[idx, 'Key trigger phrase'] = key_triggers.value\n",
    "    key_triggers.value = ''\n",
    "    \n",
    "    idx += 1\n",
    "    idx_text.value = get_index_text(idx)\n",
    "    triggers_widget.value = get_trigger_text(idx)\n",
    "    \n",
    "    with event_text_output:\n",
    "        event_text_output.clear_output()\n",
    "        display_ent(nlp(df.iloc[idx].event_text))\n",
    "        \n",
    "def save_pressed(b):\n",
    "    df.to_csv(labelled_path, index=False)\n",
    "\n",
    "idx_text = widgets.HTML(value=get_index_text(idx))\n",
    "triggers_widget = widgets.HTML(value=get_trigger_text(idx))\n",
    "\n",
    "event_text_output = widgets.Output()\n",
    "\n",
    "yes = widgets.Button(description='Near Miss Event', button_style='success')\n",
    "yes.on_click(yes_pressed)\n",
    "\n",
    "no = widgets.Button(description='Not Near Miss Event', button_style='danger')\n",
    "no.on_click(no_pressed)\n",
    "\n",
    "save = widgets.Button(description='Save DataFrame', button_style='primary')\n",
    "save.on_click(save_pressed)\n",
    "\n",
    "label_buttons = widgets.HBox([yes, no])\n",
    "buttons = widgets.VBox([label_buttons, save])\n",
    "\n",
    "key_triggers = widgets.Textarea(description='Key Triggers:')\n",
    "\n",
    "with event_text_output:\n",
    "    display_ent(nlp(df.iloc[idx].event_text))\n",
    "                            \n",
    "display(idx_text, triggers_widget, event_text_output, key_triggers, buttons)"
   ]
  },
  {
   "cell_type": "code",
   "execution_count": null,
   "metadata": {},
   "outputs": [],
   "source": []
  }
 ],
 "metadata": {
  "kernelspec": {
   "display_name": "Python 3",
   "language": "python",
   "name": "python3"
  },
  "language_info": {
   "codemirror_mode": {
    "name": "ipython",
    "version": 3
   },
   "file_extension": ".py",
   "mimetype": "text/x-python",
   "name": "python",
   "nbconvert_exporter": "python",
   "pygments_lexer": "ipython3",
   "version": "3.7.4"
  }
 },
 "nbformat": 4,
 "nbformat_minor": 4
}
