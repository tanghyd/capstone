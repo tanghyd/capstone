{
 "cells": [
  {
   "cell_type": "code",
   "execution_count": 26,
   "metadata": {},
   "outputs": [],
   "source": [
    "import numpy as np\n",
    "import pandas as pd\n",
    "import spacy"
   ]
  },
  {
   "cell_type": "code",
   "execution_count": 3,
   "metadata": {},
   "outputs": [],
   "source": [
    "data = pd.read_csv('../../events/group_all_labelled.csv')\n",
    "df = data.loc[data.reviewed]"
   ]
  },
  {
   "cell_type": "code",
   "execution_count": 4,
   "metadata": {},
   "outputs": [],
   "source": [
    "import gensim \n",
    "from gensim.models import Word2Vec \n",
    "from gensim.models.phrases import Phrases, Phraser\n",
    "from gensim.models.doc2vec import Doc2Vec, TaggedDocument\n",
    "\n",
    "def get_tokens(doc):\n",
    "    return [w.lemma_ for w in nlp(doc) if (w.is_alpha and not w.is_stop)]\n",
    "\n",
    "def get_vectors(df, max_epochs = 100, vec_size = 20, alpha = 0.025, model_path=\"d2v.model\"):\n",
    "    tagged_data = [TaggedDocument(words=row.tokens, tags=[row.event_id]) for row in df.itertuples()]\n",
    "    model = Doc2Vec(size=vec_size, alpha=alpha, min_alpha=0.00025, min_count=1, dm =1)\n",
    "    model.build_vocab(tagged_data)\n",
    "    for epoch in range(max_epochs):\n",
    "        model.train(tagged_data, total_examples=model.corpus_count, epochs=model.iter)\n",
    "        model.alpha -= 0.0002\n",
    "        model.min_alpha = model.alpha\n",
    "        \n",
    "    model.save(model_path)\n",
    "    vecs = []\n",
    "\n",
    "    for event_id in df['event_id']:\n",
    "        try:\n",
    "            vec = model.docvecs[event_id]\n",
    "        except:\n",
    "            vec = np.nan\n",
    "        vecs.append(vec)\n",
    "        \n",
    "    return vecs\n",
    "\n",
    "def to_list(x):\n",
    "    if isinstance(x, str):\n",
    "        return x.split(',')\n",
    "    else:\n",
    "        return ['unknown']"
   ]
  },
  {
   "cell_type": "code",
   "execution_count": 5,
   "metadata": {},
   "outputs": [],
   "source": [
    "nlp = spacy.load('en_core_web_lg')"
   ]
  },
  {
   "cell_type": "code",
   "execution_count": 6,
   "metadata": {},
   "outputs": [
    {
     "name": "stderr",
     "output_type": "stream",
     "text": [
      "/home/daniel/miniconda3/envs/capstone/lib/python3.8/site-packages/gensim/models/doc2vec.py:319: UserWarning: The parameter `size` is deprecated, will be removed in 4.0.0, use `vector_size` instead.\n",
      "  warnings.warn(\"The parameter `size` is deprecated, will be removed in 4.0.0, use `vector_size` instead.\")\n",
      "<ipython-input-4-f30dbda1d95c>:14: DeprecationWarning: Call to deprecated `iter` (Attribute will be removed in 4.0.0, use self.epochs instead).\n",
      "  model.train(tagged_data, total_examples=model.corpus_count, epochs=model.iter)\n"
     ]
    }
   ],
   "source": [
    "#Split training/test set\n",
    "ylabels = df['Near Miss Event'].astype(int)\n",
    "\n",
    "X = df.drop(columns = ['group','filename','sentence_text' ,'Near Miss Event'])\n",
    "\n",
    "# Event Text Vector\n",
    "X['tokens'] = X['event_text'].apply(get_tokens)\n",
    "X['event_text_vector'] = get_vectors(X)"
   ]
  },
  {
   "cell_type": "code",
   "execution_count": 59,
   "metadata": {},
   "outputs": [
    {
     "name": "stdout",
     "output_type": "stream",
     "text": [
      "(1169,)\n",
      "(501,)\n",
      "Class balance for train set:\n",
      "0    887\n",
      "1    282\n",
      "Name: Near Miss Event, dtype: int64\n",
      "\n",
      "Class balance for test set:\n",
      "0    358\n",
      "1    143\n",
      "Name: Near Miss Event, dtype: int64\n"
     ]
    }
   ],
   "source": [
    "from sklearn.model_selection import train_test_split\n",
    "from sklearn import metrics\n",
    "\n",
    "import random\n",
    "random.seed(123) # Why does this keep changing?\n",
    "X_train, X_test, y_train, y_test = train_test_split(X['event_text_vector'], ylabels, test_size=0.3)\n",
    "\n",
    "X_train_vector = pd.DataFrame(X_train.tolist(), index=X_train.index)\n",
    "X_test_vector = pd.DataFrame(X_test.tolist(), index=X_test.index)\n",
    "\n",
    "print(X_train.shape )\n",
    "print(X_test.shape)\n",
    "print(f'Class balance for train set:\\n{y_train.value_counts()}\\n')\n",
    "print(f'Class balance for test set:\\n{y_test.value_counts()}')"
   ]
  },
  {
   "cell_type": "code",
   "execution_count": 147,
   "metadata": {
    "scrolled": false
   },
   "outputs": [
    {
     "name": "stdout",
     "output_type": "stream",
     "text": [
      "Threshold set to 0.45: classify as 1 if cosine distance > 0.45, else 0.\n",
      "Accuracy: 0.4192, F1 Score: 0.4305\n",
      "Precision: 0.2989, Recall: 0.7692\n"
     ]
    },
    {
     "data": {
      "text/plain": [
       "array([[100, 258],\n",
       "       [ 33, 110]])"
      ]
     },
     "metadata": {},
     "output_type": "display_data"
    },
    {
     "name": "stdout",
     "output_type": "stream",
     "text": [
      "Threshold set to 0.475: classify as 1 if cosine distance > 0.475, else 0.\n",
      "Accuracy: 0.481, F1 Score: 0.3981\n",
      "Precision: 0.2976, Recall: 0.6014\n"
     ]
    },
    {
     "data": {
      "text/plain": [
       "array([[155, 203],\n",
       "       [ 57,  86]])"
      ]
     },
     "metadata": {},
     "output_type": "display_data"
    },
    {
     "name": "stdout",
     "output_type": "stream",
     "text": [
      "Threshold set to 0.5: classify as 1 if cosine distance > 0.5, else 0.\n",
      "Accuracy: 0.5309, F1 Score: 0.3188\n",
      "Precision: 0.2723, Recall: 0.3846\n"
     ]
    },
    {
     "data": {
      "text/plain": [
       "array([[211, 147],\n",
       "       [ 88,  55]])"
      ]
     },
     "metadata": {},
     "output_type": "display_data"
    },
    {
     "name": "stdout",
     "output_type": "stream",
     "text": [
      "Threshold set to 0.525: classify as 1 if cosine distance > 0.525, else 0.\n",
      "Accuracy: 0.6148, F1 Score: 0.2372\n",
      "Precision: 0.2727, Recall: 0.2098\n"
     ]
    },
    {
     "data": {
      "text/plain": [
       "array([[278,  80],\n",
       "       [113,  30]])"
      ]
     },
     "metadata": {},
     "output_type": "display_data"
    },
    {
     "name": "stdout",
     "output_type": "stream",
     "text": [
      "Threshold set to 0.55: classify as 1 if cosine distance > 0.55, else 0.\n",
      "Accuracy: 0.6747, F1 Score: 0.1466\n",
      "Precision: 0.2917, Recall: 0.0979\n"
     ]
    },
    {
     "data": {
      "text/plain": [
       "array([[324,  34],\n",
       "       [129,  14]])"
      ]
     },
     "metadata": {},
     "output_type": "display_data"
    }
   ],
   "source": [
    "def cosine_similarity(a, b):\n",
    "    magnitude = lambda x : np.sqrt(np.sum(np.power(x,2)))\n",
    "    return (np.dot(a, b)) / (magnitude(a)*magnitude(b))\n",
    "\n",
    "def cosine_distance(a, b):\n",
    "    return 1 - cosine_similarity(a, b)\n",
    "\n",
    "def cosine_classify(a, b, threshold = 0.5):\n",
    "    return int(cosine_distance(a,b) > threshold)\n",
    "\n",
    "#decimals for rounding\n",
    "decimals = 4\n",
    "\n",
    "for threshold in (0.45, 0.475, 0.5, 0.525, 0.55):\n",
    "    predictions = [cosine_classify(vectors, mean_vector.values, threshold=threshold) for vectors in X_test_vector.values]\n",
    "\n",
    "    # Model Accuracy\n",
    "    print(f'Threshold set to {threshold}: classify as 1 if cosine distance > {threshold}, else 0.')\n",
    "    print(f\"Accuracy: {round(metrics.accuracy_score(y_test, predictions),decimals)}, F1 Score: {round(metrics.f1_score(y_test, predictions),decimals)}\")\n",
    "    print(f\"Precision: {round(metrics.precision_score(y_test, predictions),decimals)}, Recall: {round(metrics.recall_score(y_test, predictions),decimals)}\")\n",
    "    display(confusion_matrix(y_test, predictions))"
   ]
  }
 ],
 "metadata": {
  "kernelspec": {
   "display_name": "capstone",
   "language": "python",
   "name": "capstone"
  },
  "language_info": {
   "codemirror_mode": {
    "name": "ipython",
    "version": 3
   },
   "file_extension": ".py",
   "mimetype": "text/x-python",
   "name": "python",
   "nbconvert_exporter": "python",
   "pygments_lexer": "ipython3",
   "version": "3.8.5"
  }
 },
 "nbformat": 4,
 "nbformat_minor": 4
}
